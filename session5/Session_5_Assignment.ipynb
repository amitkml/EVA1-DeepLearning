{
  "nbformat": 4,
  "nbformat_minor": 0,
  "metadata": {
    "colab": {
      "name": "Session_5_Assignment.ipynb",
      "version": "0.3.2",
      "provenance": [],
      "collapsed_sections": []
    },
    "kernelspec": {
      "name": "python3",
      "display_name": "Python 3"
    },
    "accelerator": "GPU"
  },
  "cells": [
    {
      "cell_type": "markdown",
      "metadata": {
        "id": "aNyZv-Ec52ot",
        "colab_type": "text"
      },
      "source": [
        "# **Import Libraries and modules**"
      ]
    },
    {
      "cell_type": "code",
      "metadata": {
        "id": "3m3w1Cw49Zkt",
        "colab_type": "code",
        "colab": {}
      },
      "source": [
        "# https://keras.io/\n",
        "!pip install -q keras\n",
        "import keras"
      ],
      "execution_count": 0,
      "outputs": []
    },
    {
      "cell_type": "code",
      "metadata": {
        "id": "Eso6UHE080D4",
        "colab_type": "code",
        "colab": {}
      },
      "source": [
        "import numpy as np\n",
        "\n",
        "from keras.models import Sequential\n",
        "from keras.layers import Dense, Dropout, Activation, Flatten, Add\n",
        "from keras.layers import Convolution2D, MaxPooling2D\n",
        "from keras.utils import np_utils\n",
        "\n",
        "from keras.datasets import mnist"
      ],
      "execution_count": 0,
      "outputs": []
    },
    {
      "cell_type": "markdown",
      "metadata": {
        "id": "zByEi95J86RD",
        "colab_type": "text"
      },
      "source": [
        "### Load pre-shuffled MNIST data into train and test sets"
      ]
    },
    {
      "cell_type": "markdown",
      "metadata": {
        "id": "ub6WtqhnV9VP",
        "colab_type": "text"
      },
      "source": [
        ""
      ]
    },
    {
      "cell_type": "code",
      "metadata": {
        "id": "7eRM0QWN83PV",
        "colab_type": "code",
        "colab": {}
      },
      "source": [
        "(X_train, y_train), (X_test, y_test) = mnist.load_data()"
      ],
      "execution_count": 0,
      "outputs": []
    },
    {
      "cell_type": "code",
      "metadata": {
        "id": "4a4Be72j8-ZC",
        "colab_type": "code",
        "outputId": "ee63add1-d378-4127-b1b3-560250b09bcf",
        "colab": {
          "base_uri": "https://localhost:8080/",
          "height": 617
        }
      },
      "source": [
        "print (X_train.shape)\n",
        "from matplotlib import pyplot as plt\n",
        "%matplotlib inline\n",
        "plt.imshow(X_train[0])"
      ],
      "execution_count": 117,
      "outputs": [
        {
          "output_type": "stream",
          "text": [
            "(60000, 28, 28, 1)\n"
          ],
          "name": "stdout"
        },
        {
          "output_type": "error",
          "ename": "TypeError",
          "evalue": "ignored",
          "traceback": [
            "\u001b[0;31m---------------------------------------------------------------------------\u001b[0m",
            "\u001b[0;31mTypeError\u001b[0m                                 Traceback (most recent call last)",
            "\u001b[0;32m<ipython-input-117-082fa592d9dc>\u001b[0m in \u001b[0;36m<module>\u001b[0;34m()\u001b[0m\n\u001b[1;32m      2\u001b[0m \u001b[0;32mfrom\u001b[0m \u001b[0mmatplotlib\u001b[0m \u001b[0;32mimport\u001b[0m \u001b[0mpyplot\u001b[0m \u001b[0;32mas\u001b[0m \u001b[0mplt\u001b[0m\u001b[0;34m\u001b[0m\u001b[0;34m\u001b[0m\u001b[0m\n\u001b[1;32m      3\u001b[0m \u001b[0mget_ipython\u001b[0m\u001b[0;34m(\u001b[0m\u001b[0;34m)\u001b[0m\u001b[0;34m.\u001b[0m\u001b[0mmagic\u001b[0m\u001b[0;34m(\u001b[0m\u001b[0;34m'matplotlib inline'\u001b[0m\u001b[0;34m)\u001b[0m\u001b[0;34m\u001b[0m\u001b[0;34m\u001b[0m\u001b[0m\n\u001b[0;32m----> 4\u001b[0;31m \u001b[0mplt\u001b[0m\u001b[0;34m.\u001b[0m\u001b[0mimshow\u001b[0m\u001b[0;34m(\u001b[0m\u001b[0mX_train\u001b[0m\u001b[0;34m[\u001b[0m\u001b[0;36m0\u001b[0m\u001b[0;34m]\u001b[0m\u001b[0;34m)\u001b[0m\u001b[0;34m\u001b[0m\u001b[0;34m\u001b[0m\u001b[0m\n\u001b[0m",
            "\u001b[0;32m/usr/local/lib/python3.6/dist-packages/matplotlib/pyplot.py\u001b[0m in \u001b[0;36mimshow\u001b[0;34m(X, cmap, norm, aspect, interpolation, alpha, vmin, vmax, origin, extent, shape, filternorm, filterrad, imlim, resample, url, data, **kwargs)\u001b[0m\n\u001b[1;32m   2697\u001b[0m         \u001b[0mfilternorm\u001b[0m\u001b[0;34m=\u001b[0m\u001b[0mfilternorm\u001b[0m\u001b[0;34m,\u001b[0m \u001b[0mfilterrad\u001b[0m\u001b[0;34m=\u001b[0m\u001b[0mfilterrad\u001b[0m\u001b[0;34m,\u001b[0m \u001b[0mimlim\u001b[0m\u001b[0;34m=\u001b[0m\u001b[0mimlim\u001b[0m\u001b[0;34m,\u001b[0m\u001b[0;34m\u001b[0m\u001b[0;34m\u001b[0m\u001b[0m\n\u001b[1;32m   2698\u001b[0m         resample=resample, url=url, **({\"data\": data} if data is not\n\u001b[0;32m-> 2699\u001b[0;31m         None else {}), **kwargs)\n\u001b[0m\u001b[1;32m   2700\u001b[0m     \u001b[0msci\u001b[0m\u001b[0;34m(\u001b[0m\u001b[0m__ret\u001b[0m\u001b[0;34m)\u001b[0m\u001b[0;34m\u001b[0m\u001b[0;34m\u001b[0m\u001b[0m\n\u001b[1;32m   2701\u001b[0m     \u001b[0;32mreturn\u001b[0m \u001b[0m__ret\u001b[0m\u001b[0;34m\u001b[0m\u001b[0;34m\u001b[0m\u001b[0m\n",
            "\u001b[0;32m/usr/local/lib/python3.6/dist-packages/matplotlib/__init__.py\u001b[0m in \u001b[0;36minner\u001b[0;34m(ax, data, *args, **kwargs)\u001b[0m\n\u001b[1;32m   1808\u001b[0m                         \u001b[0;34m\"the Matplotlib list!)\"\u001b[0m \u001b[0;34m%\u001b[0m \u001b[0;34m(\u001b[0m\u001b[0mlabel_namer\u001b[0m\u001b[0;34m,\u001b[0m \u001b[0mfunc\u001b[0m\u001b[0;34m.\u001b[0m\u001b[0m__name__\u001b[0m\u001b[0;34m)\u001b[0m\u001b[0;34m,\u001b[0m\u001b[0;34m\u001b[0m\u001b[0;34m\u001b[0m\u001b[0m\n\u001b[1;32m   1809\u001b[0m                         RuntimeWarning, stacklevel=2)\n\u001b[0;32m-> 1810\u001b[0;31m             \u001b[0;32mreturn\u001b[0m \u001b[0mfunc\u001b[0m\u001b[0;34m(\u001b[0m\u001b[0max\u001b[0m\u001b[0;34m,\u001b[0m \u001b[0;34m*\u001b[0m\u001b[0margs\u001b[0m\u001b[0;34m,\u001b[0m \u001b[0;34m**\u001b[0m\u001b[0mkwargs\u001b[0m\u001b[0;34m)\u001b[0m\u001b[0;34m\u001b[0m\u001b[0;34m\u001b[0m\u001b[0m\n\u001b[0m\u001b[1;32m   1811\u001b[0m \u001b[0;34m\u001b[0m\u001b[0m\n\u001b[1;32m   1812\u001b[0m         inner.__doc__ = _add_data_doc(inner.__doc__,\n",
            "\u001b[0;32m/usr/local/lib/python3.6/dist-packages/matplotlib/axes/_axes.py\u001b[0m in \u001b[0;36mimshow\u001b[0;34m(self, X, cmap, norm, aspect, interpolation, alpha, vmin, vmax, origin, extent, shape, filternorm, filterrad, imlim, resample, url, **kwargs)\u001b[0m\n\u001b[1;32m   5492\u001b[0m                               resample=resample, **kwargs)\n\u001b[1;32m   5493\u001b[0m \u001b[0;34m\u001b[0m\u001b[0m\n\u001b[0;32m-> 5494\u001b[0;31m         \u001b[0mim\u001b[0m\u001b[0;34m.\u001b[0m\u001b[0mset_data\u001b[0m\u001b[0;34m(\u001b[0m\u001b[0mX\u001b[0m\u001b[0;34m)\u001b[0m\u001b[0;34m\u001b[0m\u001b[0;34m\u001b[0m\u001b[0m\n\u001b[0m\u001b[1;32m   5495\u001b[0m         \u001b[0mim\u001b[0m\u001b[0;34m.\u001b[0m\u001b[0mset_alpha\u001b[0m\u001b[0;34m(\u001b[0m\u001b[0malpha\u001b[0m\u001b[0;34m)\u001b[0m\u001b[0;34m\u001b[0m\u001b[0;34m\u001b[0m\u001b[0m\n\u001b[1;32m   5496\u001b[0m         \u001b[0;32mif\u001b[0m \u001b[0mim\u001b[0m\u001b[0;34m.\u001b[0m\u001b[0mget_clip_path\u001b[0m\u001b[0;34m(\u001b[0m\u001b[0;34m)\u001b[0m \u001b[0;32mis\u001b[0m \u001b[0;32mNone\u001b[0m\u001b[0;34m:\u001b[0m\u001b[0;34m\u001b[0m\u001b[0;34m\u001b[0m\u001b[0m\n",
            "\u001b[0;32m/usr/local/lib/python3.6/dist-packages/matplotlib/image.py\u001b[0m in \u001b[0;36mset_data\u001b[0;34m(self, A)\u001b[0m\n\u001b[1;32m    636\u001b[0m         if not (self._A.ndim == 2\n\u001b[1;32m    637\u001b[0m                 or self._A.ndim == 3 and self._A.shape[-1] in [3, 4]):\n\u001b[0;32m--> 638\u001b[0;31m             \u001b[0;32mraise\u001b[0m \u001b[0mTypeError\u001b[0m\u001b[0;34m(\u001b[0m\u001b[0;34m\"Invalid dimensions for image data\"\u001b[0m\u001b[0;34m)\u001b[0m\u001b[0;34m\u001b[0m\u001b[0;34m\u001b[0m\u001b[0m\n\u001b[0m\u001b[1;32m    639\u001b[0m \u001b[0;34m\u001b[0m\u001b[0m\n\u001b[1;32m    640\u001b[0m         \u001b[0;32mif\u001b[0m \u001b[0mself\u001b[0m\u001b[0;34m.\u001b[0m\u001b[0m_A\u001b[0m\u001b[0;34m.\u001b[0m\u001b[0mndim\u001b[0m \u001b[0;34m==\u001b[0m \u001b[0;36m3\u001b[0m\u001b[0;34m:\u001b[0m\u001b[0;34m\u001b[0m\u001b[0;34m\u001b[0m\u001b[0m\n",
            "\u001b[0;31mTypeError\u001b[0m: Invalid dimensions for image data"
          ]
        },
        {
          "output_type": "display_data",
          "data": {
            "image/png": "[encoded data removed]",
            "text/plain": [
              "<Figure size 432x288 with 1 Axes>"
            ]
          },
          "metadata": {
            "tags": []
          }
        }
      ]
    },
    {
      "cell_type": "code",
      "metadata": {
        "id": "dkmprriw9AnZ",
        "colab_type": "code",
        "colab": {}
      },
      "source": [
        "X_train = X_train.reshape(X_train.shape[0], 28, 28,1)\n",
        "X_test = X_test.reshape(X_test.shape[0], 28, 28,1)"
      ],
      "execution_count": 0,
      "outputs": []
    },
    {
      "cell_type": "code",
      "metadata": {
        "id": "X2m4YS4E9CRh",
        "colab_type": "code",
        "colab": {}
      },
      "source": [
        "X_train = X_train.astype('float32')\n",
        "X_test = X_test.astype('float32')\n",
        "X_train /= 255\n",
        "X_test /= 255"
      ],
      "execution_count": 0,
      "outputs": []
    },
    {
      "cell_type": "code",
      "metadata": {
        "id": "0Mn0vAYD9DvB",
        "colab_type": "code",
        "outputId": "87860e53-6569-4996-fc89-fb8a23c15dd6",
        "colab": {
          "base_uri": "https://localhost:8080/",
          "height": 34
        }
      },
      "source": [
        "y_train[:10]"
      ],
      "execution_count": 0,
      "outputs": [
        {
          "output_type": "execute_result",
          "data": {
            "text/plain": [
              "array([5, 0, 4, 1, 9, 2, 1, 3, 1, 4], dtype=uint8)"
            ]
          },
          "metadata": {
            "tags": []
          },
          "execution_count": 7
        }
      ]
    },
    {
      "cell_type": "code",
      "metadata": {
        "id": "ZG8JiXR39FHC",
        "colab_type": "code",
        "colab": {}
      },
      "source": [
        "# Convert 1-dimensional class arrays to 10-dimensional class matrices\n",
        "Y_train = np_utils.to_categorical(y_train, 10)\n",
        "Y_test = np_utils.to_categorical(y_test, 10)"
      ],
      "execution_count": 0,
      "outputs": []
    },
    {
      "cell_type": "code",
      "metadata": {
        "id": "fYlFRvKS9HMB",
        "colab_type": "code",
        "outputId": "50444d7b-6fcc-4fc0-9cd2-60de2b662f8a",
        "colab": {
          "base_uri": "https://localhost:8080/",
          "height": 191
        }
      },
      "source": [
        "Y_train[:10]\n"
      ],
      "execution_count": 0,
      "outputs": [
        {
          "output_type": "execute_result",
          "data": {
            "text/plain": [
              "array([[0., 0., 0., 0., 0., 1., 0., 0., 0., 0.],\n",
              "       [1., 0., 0., 0., 0., 0., 0., 0., 0., 0.],\n",
              "       [0., 0., 0., 0., 1., 0., 0., 0., 0., 0.],\n",
              "       [0., 1., 0., 0., 0., 0., 0., 0., 0., 0.],\n",
              "       [0., 0., 0., 0., 0., 0., 0., 0., 0., 1.],\n",
              "       [0., 0., 1., 0., 0., 0., 0., 0., 0., 0.],\n",
              "       [0., 1., 0., 0., 0., 0., 0., 0., 0., 0.],\n",
              "       [0., 0., 0., 1., 0., 0., 0., 0., 0., 0.],\n",
              "       [0., 1., 0., 0., 0., 0., 0., 0., 0., 0.],\n",
              "       [0., 0., 0., 0., 1., 0., 0., 0., 0., 0.]], dtype=float32)"
            ]
          },
          "metadata": {
            "tags": []
          },
          "execution_count": 9
        }
      ]
    },
    {
      "cell_type": "code",
      "metadata": {
        "id": "zsRHEwMQMQVE",
        "colab_type": "code",
        "colab": {}
      },
      "source": [
        "from keras.layers import Convolution2D, MaxPooling2D,GlobalAveragePooling2D"
      ],
      "execution_count": 0,
      "outputs": []
    },
    {
      "cell_type": "code",
      "metadata": {
        "id": "pmnsdnybRBpD",
        "colab_type": "code",
        "outputId": "57762006-c3a6-49a0-beed-c59aa58d51ee",
        "colab": {
          "base_uri": "https://localhost:8080/",
          "height": 34
        }
      },
      "source": [
        "X_train.shape"
      ],
      "execution_count": 84,
      "outputs": [
        {
          "output_type": "execute_result",
          "data": {
            "text/plain": [
              "(60000, 28, 28, 1)"
            ]
          },
          "metadata": {
            "tags": []
          },
          "execution_count": 84
        }
      ]
    },
    {
      "cell_type": "code",
      "metadata": {
        "id": "9HLttt6eQcl9",
        "colab_type": "code",
        "colab": {}
      },
      "source": [
        "# num_pixels = X_train.shape[1]*X_train.shape[2]\n",
        "# X_train = X_train.reshape(X_train.shape[0],num_pixels).astype('float32')\n",
        "# X_test = X_test.reshape(X_test.shape[0],num_pixels).astype('float32')\n",
        "\n",
        "\n",
        "# num_pixels = X_train.shape[1] * X_train.shape[2]\n",
        "# X_train = X_train.reshape(X_train.shape[0], num_pixels).astype('float32')\n",
        "# X_test = X_test.reshape(X_test.shape[0], num_pixels).astype('float32')"
      ],
      "execution_count": 0,
      "outputs": []
    },
    {
      "cell_type": "code",
      "metadata": {
        "id": "oAaHfkI5NEMx",
        "colab_type": "code",
        "colab": {}
      },
      "source": [
        "from keras.layers import Dense, Dropout, Activation, Flatten, Add, BatchNormalization"
      ],
      "execution_count": 0,
      "outputs": []
    },
    {
      "cell_type": "code",
      "metadata": {
        "id": "jWKb2Idl4fsR",
        "colab_type": "code",
        "colab": {}
      },
      "source": [
        "from keras import regularizers"
      ],
      "execution_count": 0,
      "outputs": []
    },
    {
      "cell_type": "code",
      "metadata": {
        "id": "Z0bQzOY2EU4V",
        "colab_type": "code",
        "colab": {}
      },
      "source": [
        "from  keras.regularizers import *"
      ],
      "execution_count": 0,
      "outputs": []
    },
    {
      "cell_type": "code",
      "metadata": {
        "id": "osKqT73Q9JJB",
        "colab_type": "code",
        "outputId": "49f096f1-adc8-4666-a753-cd14bf7d34ea",
        "colab": {
          "base_uri": "https://localhost:8080/",
          "height": 159
        }
      },
      "source": [
        "from keras.layers import Activation\n",
        "model = Sequential()\n",
        "\n",
        "#block 1 \n",
        "model.add(Convolution2D(10, 3, 3,  input_shape=(28,28,1))) #26\n",
        "model.add(BatchNormalization())\n",
        "model.add(Activation('relu'))\n",
        "model.add(Dropout(0.1))\n",
        "\n",
        "\n",
        "model.add(Convolution2D(20, 3, 3)) #24\n",
        "model.add(BatchNormalization())\n",
        "model.add(Activation('relu'))\n",
        "model.add(Dropout(0.1))\n",
        "\n",
        "\n",
        "# model.add(Convolution2D(20, 3, 3, activation='relu')) \n",
        "# model.add(BatchNormalization())\n",
        "# model.add(Dropout(0.1))\n",
        "\n",
        "\n",
        "\n",
        "\n",
        "model.add(Convolution2D(10, 1, 1)) \n",
        "\n",
        "model.add(MaxPooling2D(pool_size=(2,2))) #12\n",
        "\n",
        "\n",
        " \n",
        "#block 2\n",
        "model.add(Convolution2D(20, 3, 3)) #10\n",
        "model.add(BatchNormalization())\n",
        "model.add(Activation('relu'))\n",
        "model.add(Dropout(0.1))\n",
        "model.add(Convolution2D(20, 3, 3)) #8\n",
        "model.add(BatchNormalization())\n",
        "model.add(Activation('relu'))\n",
        "model.add(Dropout(0.1))\n",
        "\n",
        "\n",
        "\n",
        "\n",
        "model.add(Convolution2D(10,1)) #8\n",
        "model.add(BatchNormalization())\n",
        "model.add(Activation('relu'))\n",
        "model.add(Convolution2D(10,8)) #8\n",
        "\n",
        "\n",
        "\n",
        "#model.add(Flatten())\n",
        "model.add(GlobalAveragePooling2D())\n",
        "\n",
        "#activity_regularizer=activity_l2(0.01)\n",
        "model.add(Activation('softmax'))\n",
        "\n",
        "model.add(layers.ActivityRegularization(l1=0.01, l2=0.01))\n"
      ],
      "execution_count": 137,
      "outputs": [
        {
          "output_type": "stream",
          "text": [
            "/usr/local/lib/python3.6/dist-packages/ipykernel_launcher.py:5: UserWarning: Update your `Conv2D` call to the Keras 2 API: `Conv2D(10, (3, 3), input_shape=(28, 28, 1...)`\n",
            "  \"\"\"\n",
            "/usr/local/lib/python3.6/dist-packages/ipykernel_launcher.py:11: UserWarning: Update your `Conv2D` call to the Keras 2 API: `Conv2D(20, (3, 3))`\n",
            "  # This is added back by InteractiveShellApp.init_path()\n",
            "/usr/local/lib/python3.6/dist-packages/ipykernel_launcher.py:24: UserWarning: Update your `Conv2D` call to the Keras 2 API: `Conv2D(10, (1, 1))`\n",
            "/usr/local/lib/python3.6/dist-packages/ipykernel_launcher.py:31: UserWarning: Update your `Conv2D` call to the Keras 2 API: `Conv2D(20, (3, 3))`\n",
            "/usr/local/lib/python3.6/dist-packages/ipykernel_launcher.py:35: UserWarning: Update your `Conv2D` call to the Keras 2 API: `Conv2D(20, (3, 3))`\n"
          ],
          "name": "stderr"
        }
      ]
    },
    {
      "cell_type": "code",
      "metadata": {
        "id": "TzdAYg1k9K7Z",
        "colab_type": "code",
        "outputId": "5ce3995e-1bdb-4a36-eb9e-9d6b4c90bd0b",
        "colab": {
          "base_uri": "https://localhost:8080/",
          "height": 1007
        }
      },
      "source": [
        "model.summary()"
      ],
      "execution_count": 138,
      "outputs": [
        {
          "output_type": "stream",
          "text": [
            "_________________________________________________________________\n",
            "Layer (type)                 Output Shape              Param #   \n",
            "=================================================================\n",
            "conv2d_72 (Conv2D)           (None, 26, 26, 10)        100       \n",
            "_________________________________________________________________\n",
            "batch_normalization_48 (Batc (None, 26, 26, 10)        40        \n",
            "_________________________________________________________________\n",
            "activation_48 (Activation)   (None, 26, 26, 10)        0         \n",
            "_________________________________________________________________\n",
            "dropout_39 (Dropout)         (None, 26, 26, 10)        0         \n",
            "_________________________________________________________________\n",
            "conv2d_73 (Conv2D)           (None, 24, 24, 20)        1820      \n",
            "_________________________________________________________________\n",
            "batch_normalization_49 (Batc (None, 24, 24, 20)        80        \n",
            "_________________________________________________________________\n",
            "activation_49 (Activation)   (None, 24, 24, 20)        0         \n",
            "_________________________________________________________________\n",
            "dropout_40 (Dropout)         (None, 24, 24, 20)        0         \n",
            "_________________________________________________________________\n",
            "conv2d_74 (Conv2D)           (None, 24, 24, 10)        210       \n",
            "_________________________________________________________________\n",
            "max_pooling2d_12 (MaxPooling (None, 12, 12, 10)        0         \n",
            "_________________________________________________________________\n",
            "conv2d_75 (Conv2D)           (None, 10, 10, 20)        1820      \n",
            "_________________________________________________________________\n",
            "batch_normalization_50 (Batc (None, 10, 10, 20)        80        \n",
            "_________________________________________________________________\n",
            "activation_50 (Activation)   (None, 10, 10, 20)        0         \n",
            "_________________________________________________________________\n",
            "dropout_41 (Dropout)         (None, 10, 10, 20)        0         \n",
            "_________________________________________________________________\n",
            "conv2d_76 (Conv2D)           (None, 8, 8, 20)          3620      \n",
            "_________________________________________________________________\n",
            "batch_normalization_51 (Batc (None, 8, 8, 20)          80        \n",
            "_________________________________________________________________\n",
            "activation_51 (Activation)   (None, 8, 8, 20)          0         \n",
            "_________________________________________________________________\n",
            "dropout_42 (Dropout)         (None, 8, 8, 20)          0         \n",
            "_________________________________________________________________\n",
            "conv2d_77 (Conv2D)           (None, 8, 8, 10)          210       \n",
            "_________________________________________________________________\n",
            "batch_normalization_52 (Batc (None, 8, 8, 10)          40        \n",
            "_________________________________________________________________\n",
            "activation_52 (Activation)   (None, 8, 8, 10)          0         \n",
            "_________________________________________________________________\n",
            "conv2d_78 (Conv2D)           (None, 1, 1, 10)          6410      \n",
            "_________________________________________________________________\n",
            "global_average_pooling2d_10  (None, 10)                0         \n",
            "_________________________________________________________________\n",
            "activation_53 (Activation)   (None, 10)                0         \n",
            "_________________________________________________________________\n",
            "activity_regularization_5 (A (None, 10)                0         \n",
            "=================================================================\n",
            "Total params: 14,510\n",
            "Trainable params: 14,350\n",
            "Non-trainable params: 160\n",
            "_________________________________________________________________\n"
          ],
          "name": "stdout"
        }
      ]
    },
    {
      "cell_type": "code",
      "metadata": {
        "id": "-MSZsUCMEg9y",
        "colab_type": "code",
        "colab": {}
      },
      "source": [
        "# from keras.optimizers import SGD\n",
        "# opt = SGD(lr=0.04, momentum=0.9)"
      ],
      "execution_count": 0,
      "outputs": []
    },
    {
      "cell_type": "code",
      "metadata": {
        "id": "Zp6SuGrL9M3h",
        "colab_type": "code",
        "colab": {}
      },
      "source": [
        "model.compile(loss='categorical_crossentropy',\n",
        "             optimizer=\"sgd\",\n",
        "             metrics=['accuracy'])"
      ],
      "execution_count": 0,
      "outputs": []
    },
    {
      "cell_type": "code",
      "metadata": {
        "id": "mCkIxTaSH7L3",
        "colab_type": "code",
        "colab": {}
      },
      "source": [
        ""
      ],
      "execution_count": 0,
      "outputs": []
    },
    {
      "cell_type": "code",
      "metadata": {
        "id": "ET8psGP_AGHL",
        "colab_type": "code",
        "colab": {}
      },
      "source": [
        "from keras.callbacks import ModelCheckpoint\n",
        "\n",
        "# checkpoint\n",
        "filepath=\"weights-improvement_run_1_10-{epoch:02d}-{val_acc:.2f}.hdf5\"\n",
        "checkpoint = ModelCheckpoint(filepath, monitor='val_acc', verbose=1, save_best_only=True, mode='max')\n",
        "callbacks_list = [checkpoint]"
      ],
      "execution_count": 0,
      "outputs": []
    },
    {
      "cell_type": "markdown",
      "metadata": {
        "id": "_Ej7zYqtfx_2",
        "colab_type": "text"
      },
      "source": [
        "## Fourth Network\n",
        "\n",
        "Inference of Network 3 is rectified by using a Learning rate scheduler which would adjust the learning rate for every epoch .But a proper clr also could also resolve this problem . Then a Adam optimizer is selected with 0.003 learing rate .\n",
        "\n",
        "Checkpoints are added to save  the weights of highest "
      ]
    },
    {
      "cell_type": "code",
      "metadata": {
        "id": "oNoRCpxLXtHM",
        "colab_type": "code",
        "colab": {}
      },
      "source": [
        "from keras.optimizers import Adam\n",
        "from keras.callbacks import LearningRateScheduler\n",
        "def scheduler(epoch, lr):\n",
        "  return round(0.003 * 1/(1 + 0.319 * epoch), 10)\n",
        "\n",
        "model.compile(loss='categorical_crossentropy', optimizer=Adam(lr=0.003), metrics=['accuracy'])\n",
        "\n"
      ],
      "execution_count": 0,
      "outputs": []
    },
    {
      "cell_type": "code",
      "metadata": {
        "id": "kGKzwiZZ3Q5q",
        "colab_type": "code",
        "colab": {}
      },
      "source": [
        "from keras.preprocessing.image import ImageDataGenerator\n",
        "datagen = ImageDataGenerator(featurewise_center=True, featurewise_std_normalization=True)\n",
        "# calculate the mean on the training dataset\n",
        "datagen.fit(X_train)"
      ],
      "execution_count": 0,
      "outputs": []
    },
    {
      "cell_type": "code",
      "metadata": {
        "id": "a4ecVA0U7Gvm",
        "colab_type": "code",
        "colab": {}
      },
      "source": [
        "valid_datagen = ImageDataGenerator(featurewise_center=True, featurewise_std_normalization=True)\n",
        "valid_datagen.fit(X_test)"
      ],
      "execution_count": 0,
      "outputs": []
    },
    {
      "cell_type": "code",
      "metadata": {
        "id": "Ubm2CSLc3fxB",
        "colab_type": "code",
        "outputId": "37863810-b1cd-43eb-f064-1e6da3564c0a",
        "colab": {
          "base_uri": "https://localhost:8080/",
          "height": 208
        }
      },
      "source": [
        "model.fit_generator(datagen.flow(X_train, Y_train, batch_size=64),\n",
        "                    steps_per_epoch=len(X_train) / 64, epochs=5,validation_data=valid_datagen.flow(X_test,Y_test,batch_size=64),validation_steps = X_test.shape[0]/64)"
      ],
      "execution_count": 144,
      "outputs": [
        {
          "output_type": "stream",
          "text": [
            "Epoch 1/5\n",
            "938/937 [==============================] - 15s 16ms/step - loss: 1.3564 - acc: 0.9571 - val_loss: 1.3002 - val_acc: 0.9821\n",
            "Epoch 2/5\n",
            "938/937 [==============================] - 12s 13ms/step - loss: 1.3048 - acc: 0.9825 - val_loss: 1.2962 - val_acc: 0.9854\n",
            "Epoch 3/5\n",
            "938/937 [==============================] - 11s 12ms/step - loss: 1.2978 - acc: 0.9861 - val_loss: 1.2892 - val_acc: 0.9906\n",
            "Epoch 4/5\n",
            "938/937 [==============================] - 11s 12ms/step - loss: 1.2948 - acc: 0.9873 - val_loss: 1.2885 - val_acc: 0.9906\n",
            "Epoch 5/5\n",
            "938/937 [==============================] - 11s 12ms/step - loss: 1.2917 - acc: 0.9897 - val_loss: 1.2885 - val_acc: 0.9911\n"
          ],
          "name": "stdout"
        },
        {
          "output_type": "execute_result",
          "data": {
            "text/plain": [
              "<keras.callbacks.History at 0x7fe70196bc18>"
            ]
          },
          "metadata": {
            "tags": []
          },
          "execution_count": 144
        }
      ]
    },
    {
      "cell_type": "code",
      "metadata": {
        "id": "lEGLufbVJ4HM",
        "colab_type": "code",
        "outputId": "24098b4f-ed7e-4c35-f864-d0fddb3da8cf",
        "colab": {
          "base_uri": "https://localhost:8080/",
          "height": 1250
        }
      },
      "source": [
        "model.fit_generator(datagen.flow(X_train, Y_train, batch_size=64),\n",
        "                    steps_per_epoch=len(X_train) / 64, epochs=35,validation_data=valid_datagen.flow(X_test,Y_test,batch_size=64),validation_steps = X_test.shape[0]/64)"
      ],
      "execution_count": 145,
      "outputs": [
        {
          "output_type": "stream",
          "text": [
            "Epoch 1/35\n",
            "938/937 [==============================] - 13s 14ms/step - loss: 1.2912 - acc: 0.9893 - val_loss: 1.2881 - val_acc: 0.9915\n",
            "Epoch 2/35\n",
            "938/937 [==============================] - 11s 12ms/step - loss: 1.2894 - acc: 0.9906 - val_loss: 1.2868 - val_acc: 0.9912\n",
            "Epoch 3/35\n",
            "938/937 [==============================] - 12s 12ms/step - loss: 1.2878 - acc: 0.9913 - val_loss: 1.2869 - val_acc: 0.9916\n",
            "Epoch 4/35\n",
            "938/937 [==============================] - 13s 14ms/step - loss: 1.2872 - acc: 0.9918 - val_loss: 1.2861 - val_acc: 0.9920\n",
            "Epoch 5/35\n",
            "938/937 [==============================] - 11s 12ms/step - loss: 1.2864 - acc: 0.9921 - val_loss: 1.2867 - val_acc: 0.9907\n",
            "Epoch 6/35\n",
            "938/937 [==============================] - 11s 12ms/step - loss: 1.2857 - acc: 0.9927 - val_loss: 1.2867 - val_acc: 0.9908\n",
            "Epoch 7/35\n",
            "938/937 [==============================] - 12s 13ms/step - loss: 1.2847 - acc: 0.9933 - val_loss: 1.2850 - val_acc: 0.9915\n",
            "Epoch 8/35\n",
            "938/937 [==============================] - 12s 12ms/step - loss: 1.2842 - acc: 0.9936 - val_loss: 1.2854 - val_acc: 0.9922\n",
            "Epoch 9/35\n",
            "938/937 [==============================] - 12s 12ms/step - loss: 1.2835 - acc: 0.9933 - val_loss: 1.2854 - val_acc: 0.9923\n",
            "Epoch 10/35\n",
            "938/937 [==============================] - 12s 13ms/step - loss: 1.2832 - acc: 0.9937 - val_loss: 1.2862 - val_acc: 0.9914\n",
            "Epoch 11/35\n",
            "938/937 [==============================] - 12s 13ms/step - loss: 1.2825 - acc: 0.9945 - val_loss: 1.2850 - val_acc: 0.9918\n",
            "Epoch 12/35\n",
            "938/937 [==============================] - 11s 12ms/step - loss: 1.2821 - acc: 0.9945 - val_loss: 1.2846 - val_acc: 0.9916\n",
            "Epoch 13/35\n",
            "938/937 [==============================] - 11s 12ms/step - loss: 1.2812 - acc: 0.9950 - val_loss: 1.2846 - val_acc: 0.9928\n",
            "Epoch 14/35\n",
            "938/937 [==============================] - 11s 12ms/step - loss: 1.2814 - acc: 0.9949 - val_loss: 1.2856 - val_acc: 0.9913\n",
            "Epoch 15/35\n",
            "938/937 [==============================] - 11s 12ms/step - loss: 1.2811 - acc: 0.9948 - val_loss: 1.2855 - val_acc: 0.9918\n",
            "Epoch 16/35\n",
            "938/937 [==============================] - 11s 12ms/step - loss: 1.2810 - acc: 0.9948 - val_loss: 1.2839 - val_acc: 0.9926\n",
            "Epoch 17/35\n",
            "938/937 [==============================] - 12s 13ms/step - loss: 1.2800 - acc: 0.9957 - val_loss: 1.2823 - val_acc: 0.9928\n",
            "Epoch 18/35\n",
            "938/937 [==============================] - 12s 13ms/step - loss: 1.2805 - acc: 0.9955 - val_loss: 1.2828 - val_acc: 0.9928\n",
            "Epoch 19/35\n",
            "938/937 [==============================] - 11s 12ms/step - loss: 1.2800 - acc: 0.9953 - val_loss: 1.2821 - val_acc: 0.9925\n",
            "Epoch 20/35\n",
            "938/937 [==============================] - 11s 12ms/step - loss: 1.2797 - acc: 0.9956 - val_loss: 1.2820 - val_acc: 0.9933\n",
            "Epoch 21/35\n",
            "938/937 [==============================] - 11s 12ms/step - loss: 1.2797 - acc: 0.9954 - val_loss: 1.2827 - val_acc: 0.9921\n",
            "Epoch 22/35\n",
            "938/937 [==============================] - 11s 12ms/step - loss: 1.2791 - acc: 0.9957 - val_loss: 1.2839 - val_acc: 0.9927\n",
            "Epoch 23/35\n",
            "938/937 [==============================] - 11s 12ms/step - loss: 1.2792 - acc: 0.9958 - val_loss: 1.2838 - val_acc: 0.9926\n",
            "Epoch 24/35\n",
            "938/937 [==============================] - 12s 13ms/step - loss: 1.2793 - acc: 0.9957 - val_loss: 1.2826 - val_acc: 0.9924\n",
            "Epoch 25/35\n",
            "938/937 [==============================] - 12s 13ms/step - loss: 1.2789 - acc: 0.9959 - val_loss: 1.2829 - val_acc: 0.9921\n",
            "Epoch 26/35\n",
            "938/937 [==============================] - 11s 12ms/step - loss: 1.2789 - acc: 0.9961 - val_loss: 1.2820 - val_acc: 0.9932\n",
            "Epoch 27/35\n",
            "938/937 [==============================] - 12s 13ms/step - loss: 1.2788 - acc: 0.9957 - val_loss: 1.2822 - val_acc: 0.9925\n",
            "Epoch 28/35\n",
            "938/937 [==============================] - 12s 13ms/step - loss: 1.2784 - acc: 0.9966 - val_loss: 1.2828 - val_acc: 0.9934\n",
            "Epoch 29/35\n",
            "938/937 [==============================] - 11s 12ms/step - loss: 1.2781 - acc: 0.9965 - val_loss: 1.2828 - val_acc: 0.9922\n",
            "Epoch 30/35\n",
            "938/937 [==============================] - 12s 13ms/step - loss: 1.2779 - acc: 0.9966 - val_loss: 1.2831 - val_acc: 0.9922\n",
            "Epoch 31/35\n",
            "938/937 [==============================] - 13s 14ms/step - loss: 1.2778 - acc: 0.9969 - val_loss: 1.2822 - val_acc: 0.9924\n",
            "Epoch 32/35\n",
            "938/937 [==============================] - 11s 12ms/step - loss: 1.2784 - acc: 0.9961 - val_loss: 1.2844 - val_acc: 0.9921\n",
            "Epoch 33/35\n",
            "938/937 [==============================] - 11s 12ms/step - loss: 1.2782 - acc: 0.9962 - val_loss: 1.2822 - val_acc: 0.9927\n",
            "Epoch 34/35\n",
            "938/937 [==============================] - 11s 12ms/step - loss: 1.2775 - acc: 0.9968 - val_loss: 1.2836 - val_acc: 0.9918\n",
            "Epoch 35/35\n",
            "938/937 [==============================] - 11s 12ms/step - loss: 1.2775 - acc: 0.9966 - val_loss: 1.2818 - val_acc: 0.9932\n"
          ],
          "name": "stdout"
        },
        {
          "output_type": "execute_result",
          "data": {
            "text/plain": [
              "<keras.callbacks.History at 0x7fe7018cd898>"
            ]
          },
          "metadata": {
            "tags": []
          },
          "execution_count": 145
        }
      ]
    },
    {
      "cell_type": "code",
      "metadata": {
        "id": "AtsH-lLk-eLb",
        "colab_type": "code",
        "colab": {}
      },
      "source": [
        "score = model.evaluate(X_test, Y_test, verbose=0)"
      ],
      "execution_count": 0,
      "outputs": []
    },
    {
      "cell_type": "code",
      "metadata": {
        "id": "mkX8JMv79q9r",
        "colab_type": "code",
        "outputId": "b97f2ff5-73ee-4223-e205-5818132f1030",
        "colab": {
          "base_uri": "https://localhost:8080/",
          "height": 34
        }
      },
      "source": [
        "# validation is done with normalized images\n",
        "print(score)"
      ],
      "execution_count": 98,
      "outputs": [
        {
          "output_type": "stream",
          "text": [
            "[2.377101025390625, 0.1774]\n"
          ],
          "name": "stdout"
        }
      ]
    },
    {
      "cell_type": "code",
      "metadata": {
        "id": "OCWoJkwE9suh",
        "colab_type": "code",
        "colab": {}
      },
      "source": [
        "# though i used image normalization for validation dataset not able to get proper output \n",
        "y_pred = model.predict_generator(valid_datagen.flow(X_test,batch_size=64),X_test.shape[0]/64)"
      ],
      "execution_count": 0,
      "outputs": []
    },
    {
      "cell_type": "code",
      "metadata": {
        "id": "yy7DUcI4Ouua",
        "colab_type": "code",
        "colab": {}
      },
      "source": [
        "import numpy as np\n",
        "y_pred_integers = np.argmax(y_pred, axis=1) "
      ],
      "execution_count": 0,
      "outputs": []
    },
    {
      "cell_type": "code",
      "metadata": {
        "id": "G-8YGREXVR3K",
        "colab_type": "code",
        "colab": {
          "base_uri": "https://localhost:8080/",
          "height": 208
        },
        "outputId": "1874fb72-d818-4af1-967d-aaaf0add1fb8"
      },
      "source": [
        "print(y_pred_integers[:10])\n",
        "print(Y_test[:10])"
      ],
      "execution_count": 149,
      "outputs": [
        {
          "output_type": "stream",
          "text": [
            "[3 7 5 1 9 2 8 9 8 1]\n",
            "[[0. 0. 0. 0. 0. 0. 0. 1. 0. 0.]\n",
            " [0. 0. 1. 0. 0. 0. 0. 0. 0. 0.]\n",
            " [0. 1. 0. 0. 0. 0. 0. 0. 0. 0.]\n",
            " [1. 0. 0. 0. 0. 0. 0. 0. 0. 0.]\n",
            " [0. 0. 0. 0. 1. 0. 0. 0. 0. 0.]\n",
            " [0. 1. 0. 0. 0. 0. 0. 0. 0. 0.]\n",
            " [0. 0. 0. 0. 1. 0. 0. 0. 0. 0.]\n",
            " [0. 0. 0. 0. 0. 0. 0. 0. 0. 1.]\n",
            " [0. 0. 0. 0. 0. 1. 0. 0. 0. 0.]\n",
            " [0. 0. 0. 0. 0. 0. 0. 0. 0. 1.]]\n"
          ],
          "name": "stdout"
        }
      ]
    },
    {
      "cell_type": "code",
      "metadata": {
        "id": "msAgqLS4SHMB",
        "colab_type": "code",
        "colab": {
          "base_uri": "https://localhost:8080/",
          "height": 34
        },
        "outputId": "907b8a88-8f25-4a57-aabb-80aaf6518b65"
      },
      "source": [
        "X_test[0].shape"
      ],
      "execution_count": 121,
      "outputs": [
        {
          "output_type": "execute_result",
          "data": {
            "text/plain": [
              "(28, 28, 1)"
            ]
          },
          "metadata": {
            "tags": []
          },
          "execution_count": 121
        }
      ]
    },
    {
      "cell_type": "code",
      "metadata": {
        "id": "7Y4tTkfaR2vh",
        "colab_type": "code",
        "colab": {
          "base_uri": "https://localhost:8080/",
          "height": 286
        },
        "outputId": "6096d99c-92f3-4fb1-836b-7947a6172b44"
      },
      "source": [
        "plt.imshow(X_test[0].reshape(28,28))"
      ],
      "execution_count": 150,
      "outputs": [
        {
          "output_type": "execute_result",
          "data": {
            "text/plain": [
              "<matplotlib.image.AxesImage at 0x7fe700bf29e8>"
            ]
          },
          "metadata": {
            "tags": []
          },
          "execution_count": 150
        },
        {
          "output_type": "display_data",
          "data": {
            "image/png": "[encoded data removed]",
            "text/plain": [
              "<Figure size 432x288 with 1 Axes>"
            ]
          },
          "metadata": {
            "tags": []
          }
        }
      ]
    },
    {
      "cell_type": "code",
      "metadata": {
        "id": "T5VxRzRRQOZa",
        "colab_type": "code",
        "colab": {
          "base_uri": "https://localhost:8080/",
          "height": 52
        },
        "outputId": "978b7330-376a-40e4-f654-7bf300fe3c4a"
      },
      "source": [
        "print(y_pred_integers[:10])\n",
        "print(y_test[:10])"
      ],
      "execution_count": 151,
      "outputs": [
        {
          "output_type": "stream",
          "text": [
            "[3 7 5 1 9 2 8 9 8 1]\n",
            "[7 2 1 0 4 1 4 9 5 9]\n"
          ],
          "name": "stdout"
        }
      ]
    },
    {
      "cell_type": "code",
      "metadata": {
        "id": "_6NoJb2URswi",
        "colab_type": "code",
        "colab": {
          "base_uri": "https://localhost:8080/",
          "height": 269
        },
        "outputId": "be8eb390-7aca-49f7-fff3-6c7584344fcf"
      },
      "source": [
        "\n",
        "plt.figure(1)\n",
        "plt.subplot(211)\n",
        "plt.imshow(X_test[1].reshape(28,28))\n",
        "\n",
        "plt.subplot(212)\n",
        "plt.imshow(X_test[2].reshape(28,28))\n",
        "\n",
        "\n",
        "  \n",
        "\n",
        "plt.show()"
      ],
      "execution_count": 152,
      "outputs": [
        {
          "output_type": "display_data",
          "data": {
            "image/png": "[encoded data removed]",
            "text/plain": [
              "<Figure size 432x288 with 2 Axes>"
            ]
          },
          "metadata": {
            "tags": []
          }
        }
      ]
    },
    {
      "cell_type": "code",
      "metadata": {
        "id": "f2hp8lkwUDkV",
        "colab_type": "code",
        "colab": {
          "base_uri": "https://localhost:8080/",
          "height": 192
        },
        "outputId": "b0a86faa-da59-4abf-e572-a413296ae92c"
      },
      "source": [
        "plt.subplot(311)\n",
        "plt.imshow(X_test[3].reshape(28,28))\n",
        "\n",
        "plt.subplot(312)\n",
        "plt.imshow(X_test[4].reshape(28,28))\n",
        "plt.subplot(411)\n",
        "plt.imshow(X_test[5].reshape(28,28))\n",
        "  \n",
        "\n",
        "plt.show()\n"
      ],
      "execution_count": 153,
      "outputs": [
        {
          "output_type": "display_data",
          "data": {
            "image/png": "[encoded data removed]",
            "text/plain": [
              "<Figure size 432x288 with 2 Axes>"
            ]
          },
          "metadata": {
            "tags": []
          }
        }
      ]
    },
    {
      "cell_type": "code",
      "metadata": {
        "id": "Ym7iCFBm9uBs",
        "colab_type": "code",
        "outputId": "8729d77e-1634-4ff9-98bd-59f262ac2ff3",
        "colab": {
          "base_uri": "https://localhost:8080/",
          "height": 503
        }
      },
      "source": [
        "print(y_pred[:9])\n",
        "print(y_test[:9])"
      ],
      "execution_count": 154,
      "outputs": [
        {
          "output_type": "stream",
          "text": [
            "[[6.60077148e-08 2.57458709e-07 5.71126118e-04 9.83669460e-01\n",
            "  2.10866631e-07 1.56616364e-02 2.26937360e-07 7.96941604e-05\n",
            "  4.44091529e-06 1.28655547e-05]\n",
            " [2.77170999e-04 5.79649641e-04 1.42424526e-02 6.23317063e-02\n",
            "  3.11802229e-04 5.88422455e-03 1.79716553e-05 8.82279932e-01\n",
            "  1.87238422e-03 3.22027579e-02]\n",
            " [4.71955258e-03 3.43016654e-05 3.43366191e-05 2.16800021e-03\n",
            "  1.09032189e-04 9.75056052e-01 1.24290225e-03 5.45891467e-04\n",
            "  1.14968978e-02 4.59306967e-03]\n",
            " [7.04899617e-03 9.12584305e-01 1.37599455e-02 3.58657388e-04\n",
            "  1.78328399e-02 6.70254836e-03 5.18350862e-03 2.71623041e-02\n",
            "  8.88174586e-03 4.85296739e-04]\n",
            " [1.23560913e-02 2.24938103e-05 1.03491812e-03 1.66081195e-03\n",
            "  1.76118650e-02 3.20055080e-03 3.31854593e-04 3.36278826e-02\n",
            "  1.26751550e-02 9.17478442e-01]\n",
            " [5.78886902e-05 2.25119638e-05 9.93295372e-01 2.94600916e-03\n",
            "  1.47602918e-06 3.01382988e-05 2.84389043e-05 7.17302319e-04\n",
            "  2.90037831e-03 4.38950678e-07]\n",
            " [1.36029837e-03 1.69656786e-07 3.46235819e-02 4.66463063e-03\n",
            "  9.59045610e-06 2.15566019e-03 5.97644015e-04 2.09676091e-05\n",
            "  9.52766955e-01 3.80046037e-03]\n",
            " [1.39832118e-04 4.90186540e-05 4.46676131e-04 4.44104057e-03\n",
            "  1.76551677e-02 2.64484994e-03 2.38123675e-06 6.24721535e-02\n",
            "  2.37640161e-02 8.88384759e-01]\n",
            " [9.30231437e-03 5.74862269e-10 2.86683557e-03 6.95222104e-03\n",
            "  4.31722782e-07 1.29421782e-02 5.21393958e-04 3.33107200e-05\n",
            "  9.65921581e-01 1.45977049e-03]]\n",
            "[7 2 1 0 4 1 4 9 5]\n"
          ],
          "name": "stdout"
        }
      ]
    },
    {
      "cell_type": "code",
      "metadata": {
        "id": "CT--y98_dr2T",
        "colab_type": "code",
        "colab": {}
      },
      "source": [
        "layer_dict = dict([(layer.name, layer) for layer in model.layers])"
      ],
      "execution_count": 0,
      "outputs": []
    },
    {
      "cell_type": "code",
      "metadata": {
        "id": "2GY4Upv4dsUR",
        "colab_type": "code",
        "outputId": "de2d1833-c891-40c1-d2c3-ddb162f3084c",
        "colab": {
          "base_uri": "https://localhost:8080/",
          "height": 741
        }
      },
      "source": [
        "import numpy as np\n",
        "from matplotlib import pyplot as plt\n",
        "from keras import backend as K\n",
        "%matplotlib inline\n",
        "# util function to convert a tensor into a valid image\n",
        "def deprocess_image(x):\n",
        "    # normalize tensor: center on 0., ensure std is 0.1\n",
        "    x -= x.mean()\n",
        "    x /= (x.std() + 1e-5)\n",
        "    x *= 0.1\n",
        "\n",
        "    # clip to [0, 1]\n",
        "    x += 0.5\n",
        "    x = np.clip(x, 0, 1)\n",
        "\n",
        "    # convert to RGB array\n",
        "    x *= 255\n",
        "    #x = x.transpose((1, 2, 0))\n",
        "    x = np.clip(x, 0, 255).astype('uint8')\n",
        "    return x\n",
        "\n",
        "def vis_img_in_filter(img = np.array(X_train[2]).reshape((1, 28, 28, 1)).astype(np.float64), \n",
        "                      layer_name = 'conv2d_100'):\n",
        "    layer_output = layer_dict[layer_name].output\n",
        "    img_ascs = list()\n",
        "    for filter_index in range(layer_output.shape[3]):\n",
        "        # build a loss function that maximizes the activation\n",
        "        # of the nth filter of the layer considered\n",
        "        loss = K.mean(layer_output[:, :, :, filter_index])\n",
        "\n",
        "        # compute the gradient of the input picture wrt this loss\n",
        "        grads = K.gradients(loss, model.input)[0]\n",
        "\n",
        "        # normalization trick: we normalize the gradient\n",
        "        grads /= (K.sqrt(K.mean(K.square(grads))) + 1e-5)\n",
        "\n",
        "        # this function returns the loss and grads given the input picture\n",
        "        iterate = K.function([model.input], [loss, grads])\n",
        "\n",
        "        # step size for gradient ascent\n",
        "        step = 5.\n",
        "\n",
        "        img_asc = np.array(img)\n",
        "        # run gradient ascent for 20 steps\n",
        "        for i in range(20):\n",
        "            loss_value, grads_value = iterate([img_asc])\n",
        "            img_asc += grads_value * step\n",
        "\n",
        "        img_asc = img_asc[0]\n",
        "        img_ascs.append(deprocess_image(img_asc).reshape((28, 28)))\n",
        "        \n",
        "    if layer_output.shape[3] >= 35:\n",
        "        plot_x, plot_y = 6, 6\n",
        "    elif layer_output.shape[3] >= 23:\n",
        "        plot_x, plot_y = 4, 6\n",
        "    elif layer_output.shape[3] >= 11:\n",
        "        plot_x, plot_y = 2, 6\n",
        "    else:\n",
        "        plot_x, plot_y = 1, 2\n",
        "    fig, ax = plt.subplots(plot_x, plot_y, figsize = (12, 12))\n",
        "    ax[0, 0].imshow(img.reshape((28, 28)), cmap = 'gray')\n",
        "    ax[0, 0].set_title('Input image')\n",
        "    fig.suptitle('Input image and %s filters' % (layer_name,))\n",
        "    fig.tight_layout(pad = 0.3, rect = [0, 0, 0.9, 0.9])\n",
        "    for (x, y) in [(i, j) for i in range(plot_x) for j in range(plot_y)]:\n",
        "        if x == 0 and y == 0:\n",
        "            continue\n",
        "        ax[x, y].imshow(img_ascs[x * plot_y + y - 1], cmap = 'gray')\n",
        "        ax[x, y].set_title('filter %d' % (x * plot_y + y - 1))\n",
        "\n",
        "vis_img_in_filter()"
      ],
      "execution_count": 0,
      "outputs": [
        {
          "output_type": "display_data",
          "data": {
            "image/png": "[encoded data removed]",
            "text/plain": [
              "<Figure size 864x864 with 12 Axes>"
            ]
          },
          "metadata": {
            "tags": []
          }
        }
      ]
    },
    {
      "cell_type": "code",
      "metadata": {
        "id": "9tvptcn8dxvp",
        "colab_type": "code",
        "colab": {}
      },
      "source": [
        ""
      ],
      "execution_count": 0,
      "outputs": []
    }
  ]
}